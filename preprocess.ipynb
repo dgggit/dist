{
 "cells": [
  {
   "cell_type": "markdown",
   "metadata": {},
   "source": [
    "#### For development\n",
    "\n",
    "\n",
    "In this file, following lines are processed.\n",
    "We distribute processed file to students.\n",
    "\n",
    "**TASK DEFINITION : to predidct Churn(:= user has no record during D+30 ~ D+210 starting from account creation.), given records of first 30 days.**  \n",
    "(*this task is used for samsung data programming advanced, 16th (lecture done in May 2020) *)\n",
    "\n",
    "- 1. Eliminate posts except questions and answers\n",
    "- 2. Extract the dataset for the period of the dataset: July 31, 2008 - July 31, 2012\n",
    "- 3. remove users that have not enough records (i.e, July31,2012 - 6month < AccountCreationDate )\n",
    "- 4. drop reputation column / creationdateofowner\n",
    "- 5.1. Eliminate answers which do not have the question\n",
    "- 5.2. If a answer is faster than question of it, eliminate the answer\n",
    "- 6. verify churners\n",
    "- 7. split data\n"
   ]
  },
  {
   "cell_type": "code",
   "execution_count": 1,
   "metadata": {},
   "outputs": [],
   "source": [
    "import pandas as pd\n",
    "import numpy as np"
   ]
  },
  {
   "cell_type": "code",
   "execution_count": 2,
   "metadata": {},
   "outputs": [],
   "source": [
    "users_df = pd.read_pickle('users_reduce.pkl')\n",
    "posts_df = pd.read_pickle('posts_reduce.pkl')"
   ]
  },
  {
   "cell_type": "code",
   "execution_count": 3,
   "metadata": {},
   "outputs": [
    {
     "name": "stdout",
     "output_type": "stream",
     "text": [
      "<class 'pandas.core.frame.DataFrame'>\n",
      "Int64Index: 992110 entries, -1 to 11979186\n",
      "Data columns (total 3 columns):\n",
      "Reputation        992110 non-null int32\n",
      "CreationDate      992110 non-null datetime64[ns]\n",
      "LastAccessDate    992110 non-null datetime64[ns]\n",
      "dtypes: datetime64[ns](2), int32(1)\n",
      "memory usage: 26.5 MB\n",
      "<class 'pandas.core.frame.DataFrame'>\n",
      "Int64Index: 11324326 entries, 4 to 14625187\n",
      "Data columns (total 10 columns):\n",
      "PostTypeId             int32\n",
      "AcceptedAnswerId       float32\n",
      "CreationDate           datetime64[ns]\n",
      "Score                  float32\n",
      "OwnerUserId            int32\n",
      "AnswerCount            float32\n",
      "CommentCount           float32\n",
      "ParentId               float32\n",
      "CreationDateOfOwner    datetime64[ns]\n",
      "BodyWordNum            float64\n",
      "dtypes: datetime64[ns](2), float32(5), float64(1), int32(2)\n",
      "memory usage: 648.0 MB\n",
      "None None\n"
     ]
    }
   ],
   "source": [
    "users_df.shape, posts_df.shape\n",
    "print(users_df.info(), posts_df.info())"
   ]
  },
  {
   "cell_type": "code",
   "execution_count": 4,
   "metadata": {},
   "outputs": [],
   "source": [
    "posts_df['PostId'] = posts_df.index"
   ]
  },
  {
   "cell_type": "code",
   "execution_count": 5,
   "metadata": {},
   "outputs": [
    {
     "name": "stdout",
     "output_type": "stream",
     "text": [
      "(11291882, 11)\n",
      "<class 'pandas.core.frame.DataFrame'>\n",
      "Int64Index: 11291882 entries, 4 to 14625187\n",
      "Data columns (total 11 columns):\n",
      "PostTypeId             int32\n",
      "AcceptedAnswerId       float32\n",
      "CreationDate           datetime64[ns]\n",
      "Score                  float32\n",
      "OwnerUserId            int32\n",
      "AnswerCount            float32\n",
      "CommentCount           float32\n",
      "ParentId               float32\n",
      "CreationDateOfOwner    datetime64[ns]\n",
      "BodyWordNum            float64\n",
      "PostId                 int64\n",
      "dtypes: datetime64[ns](2), float32(5), float64(1), int32(2), int64(1)\n",
      "memory usage: 732.3 MB\n",
      "None\n"
     ]
    }
   ],
   "source": [
    "# Eliminate posts except questions and answers\n",
    "posts_df = posts_df[(posts_df['PostTypeId'] == 1) | (posts_df['PostTypeId'] == 2)]\n",
    "\n",
    "print(posts_df.shape)\n",
    "print(posts_df.info())"
   ]
  },
  {
   "cell_type": "code",
   "execution_count": 6,
   "metadata": {},
   "outputs": [],
   "source": [
    "# 2 Extract the dataset for the period of the dataset: July 31, 2008 - July 31, 2012\n",
    "start_time = pd.to_datetime('2008-07-31')\n",
    "end_time = pd.to_datetime('2012-07-31')\n",
    "end_time_2 = pd.to_datetime('2012-01-31')"
   ]
  },
  {
   "cell_type": "code",
   "execution_count": 7,
   "metadata": {},
   "outputs": [
    {
     "name": "stdout",
     "output_type": "stream",
     "text": [
      "(9499165, 11) (692028, 3)\n"
     ]
    }
   ],
   "source": [
    "posts_df = posts_df[(pd.to_datetime(posts_df['CreationDate']) >= start_time) & (pd.to_datetime(posts_df['CreationDate']) <= end_time)]\n",
    "users_df = users_df[(pd.to_datetime(users_df['CreationDate']) >= start_time) & (pd.to_datetime(users_df['CreationDate']) <= end_time_2)]\n",
    "\n",
    "print(posts_df.shape, users_df.shape)\n"
   ]
  },
  {
   "cell_type": "code",
   "execution_count": 8,
   "metadata": {},
   "outputs": [
    {
     "name": "stdout",
     "output_type": "stream",
     "text": [
      "(9499165, 11) (690666, 3)\n"
     ]
    }
   ],
   "source": [
    "# 3 remove users that have not enough records (i.e, July31,2012 - 6month < AccountCreationDate )\n",
    "\n",
    "sixMonthsBeforeEnd = pd.to_datetime('2012-01-30')\n",
    "\n",
    "users_df = users_df[pd.to_datetime(users_df['CreationDate']) < sixMonthsBeforeEnd]\n",
    "print(posts_df.shape, users_df.shape)\n"
   ]
  },
  {
   "cell_type": "code",
   "execution_count": 9,
   "metadata": {},
   "outputs": [
    {
     "name": "stdout",
     "output_type": "stream",
     "text": [
      "(9499165, 10) (690666, 2)\n"
     ]
    }
   ],
   "source": [
    "# 4. drop reputation column / creationdateofowner\n",
    "\n",
    "users_df = users_df.drop('Reputation', axis=1)\n",
    "posts_df = posts_df.drop('CreationDateOfOwner', axis=1)\n",
    "print(posts_df.shape, users_df.shape)\n"
   ]
  },
  {
   "cell_type": "code",
   "execution_count": 10,
   "metadata": {},
   "outputs": [
    {
     "name": "stdout",
     "output_type": "stream",
     "text": [
      "(6396879, 10)\n",
      "(3102286, 10)\n",
      "(6152783, 19)\n",
      "(6152120, 1)\n"
     ]
    }
   ],
   "source": [
    "#5.1. Eliminate answers which do not have the question\n",
    "#5.2. If a answer is faster than question of it, eliminate the answer\n",
    "\n",
    "questions = posts_df[posts_df['PostTypeId'] == 1]\n",
    "answers = posts_df[posts_df['PostTypeId'] == 2]\n",
    "print(answers.shape)\n",
    "print(questions.shape)\n",
    "\n",
    "\n",
    "qna = answers.set_index('ParentId')\\\n",
    "        .join(questions, how='inner',\\\n",
    "              lsuffix='A', rsuffix='Q')\n",
    "print(qna.shape)\n",
    "\n",
    "qna = qna[qna['CreationDateA'] >= qna['CreationDateQ']]\n",
    "qna = qna[['PostIdA']]\n",
    "print(qna.shape)\n"
   ]
  },
  {
   "cell_type": "code",
   "execution_count": 11,
   "metadata": {},
   "outputs": [],
   "source": [
    "#qna.info()"
   ]
  },
  {
   "cell_type": "code",
   "execution_count": 12,
   "metadata": {},
   "outputs": [
    {
     "name": "stdout",
     "output_type": "stream",
     "text": [
      "(6152120, 10)\n",
      "(9254406, 10) (690666, 2)\n",
      "<class 'pandas.core.frame.DataFrame'>\n",
      "Int64Index: 9254406 entries, 4 to 12918368\n",
      "Data columns (total 10 columns):\n",
      "PostTypeId          int32\n",
      "AcceptedAnswerId    float32\n",
      "CreationDate        datetime64[ns]\n",
      "Score               float32\n",
      "OwnerUserId         int32\n",
      "AnswerCount         float32\n",
      "CommentCount        float32\n",
      "ParentId            float32\n",
      "BodyWordNum         float64\n",
      "PostId              int64\n",
      "dtypes: datetime64[ns](1), float32(5), float64(1), int32(2), int64(1)\n",
      "memory usage: 529.5 MB\n",
      "None\n"
     ]
    }
   ],
   "source": [
    "qna = qna.set_index('PostIdA')\n",
    "\n",
    "answers = answers.join(qna, how='inner', lsuffix='', rsuffix='Q')\n",
    "print(answers.shape)\n",
    "\n",
    "posts_df = pd.concat([questions, answers])\n",
    "posts_df = posts_df.set_index('PostId')\n",
    "posts_df['PostId'] = posts_df.index\n",
    "\n",
    "print(posts_df.shape, users_df.shape)\n",
    "      \n",
    "print(posts_df.info())"
   ]
  },
  {
   "cell_type": "code",
   "execution_count": 13,
   "metadata": {},
   "outputs": [
    {
     "name": "stdout",
     "output_type": "stream",
     "text": [
      "<class 'pandas.core.frame.DataFrame'>\n",
      "Int64Index: 690666 entries, -1 to 11963865\n",
      "Data columns (total 2 columns):\n",
      "CreationDate      690666 non-null datetime64[ns]\n",
      "LastAccessDate    690666 non-null datetime64[ns]\n",
      "dtypes: datetime64[ns](2)\n",
      "memory usage: 15.8 MB\n"
     ]
    }
   ],
   "source": [
    "users_df.info()"
   ]
  },
  {
   "cell_type": "code",
   "execution_count": 32,
   "metadata": {},
   "outputs": [
    {
     "name": "stdout",
     "output_type": "stream",
     "text": [
      "<class 'pandas.core.frame.DataFrame'>\n",
      "Int64Index: 9254406 entries, 4 to 12918368\n",
      "Data columns (total 10 columns):\n",
      "PostTypeId          int32\n",
      "AcceptedAnswerId    float32\n",
      "CreationDate        datetime64[ns]\n",
      "Score               float32\n",
      "OwnerUserId         int32\n",
      "AnswerCount         float32\n",
      "CommentCount        float32\n",
      "ParentId            float32\n",
      "BodyWordNum         float64\n",
      "PostId              int64\n",
      "dtypes: datetime64[ns](1), float32(5), float64(1), int32(2), int64(1)\n",
      "memory usage: 849.5 MB\n"
     ]
    }
   ],
   "source": [
    "posts_df.info()"
   ]
  },
  {
   "cell_type": "code",
   "execution_count": 126,
   "metadata": {},
   "outputs": [],
   "source": [
    "# 6. verify churners\n",
    "    \n",
    "joined = users_df.join(posts_df.set_index('OwnerUserId') , how='left', rsuffix = 'P')\n",
    "joined_int_group = joined[ (joined['CreationDateP'] >= (joined['CreationDate'] + pd.Timedelta(days=30))) & \\\n",
    "                            (joined['CreationDateP'] <= (joined['CreationDate'] + pd.Timedelta(days=210)))      \n",
    "                          ]\n",
    "joined_int_group = joined.groupby(joined.index).count()['PostId']"
   ]
  },
  {
   "cell_type": "code",
   "execution_count": 128,
   "metadata": {},
   "outputs": [
    {
     "name": "stdout",
     "output_type": "stream",
     "text": [
      "<class 'pandas.core.frame.DataFrame'>\n",
      "Int64Index: 8836365 entries, -1 to 11963865\n",
      "Data columns (total 11 columns):\n",
      "CreationDate        datetime64[ns]\n",
      "LastAccessDate      datetime64[ns]\n",
      "PostTypeId          float64\n",
      "AcceptedAnswerId    float32\n",
      "CreationDateP       datetime64[ns]\n",
      "Score               float32\n",
      "AnswerCount         float32\n",
      "CommentCount        float32\n",
      "ParentId            float32\n",
      "BodyWordNum         float64\n",
      "PostId              float64\n",
      "dtypes: datetime64[ns](3), float32(5), float64(3)\n",
      "memory usage: 640.5 MB\n"
     ]
    },
    {
     "data": {
      "text/plain": [
       "-1      0\n",
       " 1    130\n",
       " 2     11\n",
       "Name: PostId, dtype: int64"
      ]
     },
     "execution_count": 128,
     "metadata": {},
     "output_type": "execute_result"
    }
   ],
   "source": [
    "joined.info()\n",
    "joined_int_group.describe()\n",
    "joined_int_group[:3]"
   ]
  },
  {
   "cell_type": "code",
   "execution_count": 168,
   "metadata": {},
   "outputs": [],
   "source": [
    "import numpy as np\n",
    "\n",
    "result_per_user = users_df.join(joined_int_group, how='inner')\n",
    "result_per_user.rename(columns = {'PostId': 'countInInterval'}, inplace = True)\n",
    "result_per_user['isChurn'] = np.where(result_per_user['countInInterval'] == 0, True, False)\n",
    "result_per_user = result_per_user.drop('countInInterval', axis=1)"
   ]
  },
  {
   "cell_type": "code",
   "execution_count": 169,
   "metadata": {},
   "outputs": [
    {
     "name": "stdout",
     "output_type": "stream",
     "text": [
      "<class 'pandas.core.frame.DataFrame'>\n",
      "Int64Index: 690666 entries, -1 to 11963865\n",
      "Data columns (total 3 columns):\n",
      "CreationDate      690666 non-null datetime64[ns]\n",
      "LastAccessDate    690666 non-null datetime64[ns]\n",
      "isChurn           690666 non-null bool\n",
      "dtypes: bool(1), datetime64[ns](2)\n",
      "memory usage: 16.5 MB\n"
     ]
    },
    {
     "data": {
      "text/plain": [
       "count     690666\n",
       "unique         2\n",
       "top        False\n",
       "freq      567859\n",
       "Name: isChurn, dtype: object"
      ]
     },
     "execution_count": 169,
     "metadata": {},
     "output_type": "execute_result"
    }
   ],
   "source": [
    "result_per_user.info()\n",
    "result_per_user['isChurn'].describe()"
   ]
  },
  {
   "cell_type": "markdown",
   "metadata": {},
   "source": [
    "### statistics\n",
    "- total 690666 people\n",
    "- 17.8% is Churn (i.e. 1:4 ratio of 1/0 label)\n",
    "\n",
    "- split train:val:test -> 6:2:2 \n"
   ]
  },
  {
   "cell_type": "code",
   "execution_count": 170,
   "metadata": {},
   "outputs": [],
   "source": [
    "# 7. split\n",
    "\n",
    "train_user = result_per_user.sample(frac=0.6,random_state=200)\n",
    "val_test_user = result_per_user.drop(train_user.index)\n",
    "val_user = val_test_user.sample(frac=0.5, random_state=321)\n",
    "test_user = val_test_user.drop(val_user.index)"
   ]
  },
  {
   "cell_type": "code",
   "execution_count": 171,
   "metadata": {},
   "outputs": [
    {
     "name": "stdout",
     "output_type": "stream",
     "text": [
      "count     414400\n",
      "unique         2\n",
      "top        False\n",
      "freq      340721\n",
      "Name: isChurn, dtype: object\n",
      "count     138133\n",
      "unique         2\n",
      "top        False\n",
      "freq      113595\n",
      "Name: isChurn, dtype: object\n",
      "count     138133\n",
      "unique         2\n",
      "top        False\n",
      "freq      113543\n",
      "Name: isChurn, dtype: object\n"
     ]
    }
   ],
   "source": [
    "print(train_user['isChurn'].describe())\n",
    "print(val_user['isChurn'].describe())\n",
    "print(test_user['isChurn'].describe())"
   ]
  },
  {
   "cell_type": "markdown",
   "metadata": {},
   "source": [
    "### remove all posts that are from val, test users"
   ]
  },
  {
   "cell_type": "code",
   "execution_count": 172,
   "metadata": {},
   "outputs": [],
   "source": [
    "posts_by_val_users = posts_df.set_index('OwnerUserId').join(val_user, how='inner', lsuffix='P')['PostId']\n",
    "posts_by_test_users = posts_df.set_index('OwnerUserId').join(test_user, how='inner', lsuffix='P')['PostId']"
   ]
  },
  {
   "cell_type": "code",
   "execution_count": 173,
   "metadata": {},
   "outputs": [
    {
     "name": "stdout",
     "output_type": "stream",
     "text": [
      "count    1.755770e+06\n",
      "mean     5.672607e+06\n",
      "std      3.227903e+06\n",
      "min      6.000000e+00\n",
      "25%      2.899012e+06\n",
      "50%      5.647128e+06\n",
      "75%      8.335888e+06\n",
      "max      1.278398e+07\n",
      "Name: PostId, dtype: float64\n",
      "count    1.793890e+06\n",
      "mean     5.762708e+06\n",
      "std      3.211179e+06\n",
      "min      2.500000e+01\n",
      "25%      3.040644e+06\n",
      "50%      5.757459e+06\n",
      "75%      8.435578e+06\n",
      "max      1.291837e+07\n",
      "Name: PostId, dtype: float64\n"
     ]
    }
   ],
   "source": [
    "print(posts_by_val_users.describe())\n",
    "print(posts_by_test_users.describe())"
   ]
  },
  {
   "cell_type": "code",
   "execution_count": 174,
   "metadata": {},
   "outputs": [],
   "source": [
    "posts_df_hidden = posts_df.drop(posts_by_val_users.values)\n",
    "posts_df_hidden = posts_df_hidden.drop(posts_by_test_users.values)"
   ]
  },
  {
   "cell_type": "code",
   "execution_count": 175,
   "metadata": {},
   "outputs": [
    {
     "name": "stdout",
     "output_type": "stream",
     "text": [
      "<class 'pandas.core.frame.DataFrame'>\n",
      "Int64Index: 5704746 entries, 4 to 12918368\n",
      "Data columns (total 10 columns):\n",
      "PostTypeId          int32\n",
      "AcceptedAnswerId    float32\n",
      "CreationDate        datetime64[ns]\n",
      "Score               float32\n",
      "OwnerUserId         int32\n",
      "AnswerCount         float32\n",
      "CommentCount        float32\n",
      "ParentId            float32\n",
      "BodyWordNum         float64\n",
      "PostId              int64\n",
      "dtypes: datetime64[ns](1), float32(5), float64(1), int32(2), int64(1)\n",
      "memory usage: 326.4 MB\n"
     ]
    }
   ],
   "source": [
    "posts_df_hidden.info()"
   ]
  },
  {
   "cell_type": "markdown",
   "metadata": {},
   "source": [
    "### final statistics\n",
    "\n",
    "- #of posts after refinement : 9254406\n",
    "- #of users after refinement : 690666\n",
    "\n",
    "- train:val:test split ratio : 6:2:2\n",
    "- isChurn:notChurn ratio in all splits : approx. 1:4\n",
    "\n",
    "\n",
    "- posts decrease due to hiding posts by val/test users : 9254406 -> 5704746 (38% deleted)"
   ]
  },
  {
   "cell_type": "code",
   "execution_count": 176,
   "metadata": {},
   "outputs": [],
   "source": [
    "posts_df_hidden = posts_df_hidden.drop('PostId', axis=1)"
   ]
  },
  {
   "cell_type": "code",
   "execution_count": 177,
   "metadata": {},
   "outputs": [
    {
     "name": "stdout",
     "output_type": "stream",
     "text": [
      "<class 'pandas.core.frame.DataFrame'>\n",
      "Int64Index: 414400 entries, 1083952 to 576689\n",
      "Data columns (total 3 columns):\n",
      "CreationDate      414400 non-null datetime64[ns]\n",
      "LastAccessDate    414400 non-null datetime64[ns]\n",
      "isChurn           414400 non-null bool\n",
      "dtypes: bool(1), datetime64[ns](2)\n",
      "memory usage: 9.9 MB\n",
      "None\n",
      "<class 'pandas.core.frame.DataFrame'>\n",
      "Int64Index: 5704746 entries, 4 to 12918368\n",
      "Data columns (total 9 columns):\n",
      "PostTypeId          int32\n",
      "AcceptedAnswerId    float32\n",
      "CreationDate        datetime64[ns]\n",
      "Score               float32\n",
      "OwnerUserId         int32\n",
      "AnswerCount         float32\n",
      "CommentCount        float32\n",
      "ParentId            float32\n",
      "BodyWordNum         float64\n",
      "dtypes: datetime64[ns](1), float32(5), float64(1), int32(2)\n",
      "memory usage: 282.9 MB\n",
      "None\n"
     ]
    }
   ],
   "source": [
    "print(train_user.info())\n",
    "print(posts_df_hidden.info())"
   ]
  },
  {
   "cell_type": "code",
   "execution_count": 178,
   "metadata": {},
   "outputs": [],
   "source": [
    "# output\n",
    "\n",
    "OUTPUT_USERS_TRAIN = '../dataset_dist/users_train_dist.csv'\n",
    "OUTPUT_USERS_VAL = '../dataset_dist/users_val_dist.csv'\n",
    "OUTPUT_USERS_TEST = '../dataset_dist/users_test_dist.csv'\n",
    "\n",
    "OUTPUT_POSTS = '../dataset_dist/posts_dist.csv'\n",
    "\n",
    "\n",
    "train_user.to_csv(OUTPUT_USERS_TRAIN, mode='w', header=True, index=True) # index true!\n",
    "val_user.to_csv(OUTPUT_USERS_VAL, mode='w', header=True, index=True)\n",
    "test_user.to_csv(OUTPUT_USERS_TEST, mode='w', header=True, index=True)\n",
    "\n",
    "posts_df_hidden.to_csv(OUTPUT_POSTS, mode='w', header=True, index=True) "
   ]
  },
  {
   "cell_type": "code",
   "execution_count": null,
   "metadata": {},
   "outputs": [],
   "source": []
  }
 ],
 "metadata": {
  "kernelspec": {
   "display_name": "Python 3",
   "language": "python",
   "name": "python3"
  },
  "language_info": {
   "codemirror_mode": {
    "name": "ipython",
    "version": 3
   },
   "file_extension": ".py",
   "mimetype": "text/x-python",
   "name": "python",
   "nbconvert_exporter": "python",
   "pygments_lexer": "ipython3",
   "version": "3.5.2"
  }
 },
 "nbformat": 4,
 "nbformat_minor": 4
}
